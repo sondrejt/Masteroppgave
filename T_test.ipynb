{
 "cells": [
  {
   "cell_type": "code",
   "execution_count": 128,
   "metadata": {},
   "outputs": [],
   "source": [
    "import json\n",
    "import numpy as np\n",
    "\n",
    "with open(\"assosiative_mean.json\", \"r\") as f:\n",
    "    over_35_dict = json.load(f)\n",
    "\n",
    "with open(\"billedlige_mean.json\", \"r\") as f:\n",
    "    under_35_dict = json.load(f)\n"
   ]
  },
  {
   "cell_type": "code",
   "execution_count": 129,
   "metadata": {},
   "outputs": [
    {
     "name": "stdout",
     "output_type": "stream",
     "text": [
      "127\n",
      "127\n"
     ]
    }
   ],
   "source": [
    "print(len(over_35_dict))\n",
    "print(len(under_35_dict))"
   ]
  },
  {
   "cell_type": "code",
   "execution_count": 130,
   "metadata": {},
   "outputs": [
    {
     "name": "stdout",
     "output_type": "stream",
     "text": [
      "{'0': 0.8181818181818182, '1': 0.5454545454545454, '2': 0.2727272727272727, '3': 0.7272727272727273, '4': 0.45454545454545453, '5': 0.36363636363636365, '6': 0.45454545454545453, '7': 0.5454545454545454, '8': 0.5454545454545454, '9': 0.2727272727272727, '10': 0.5454545454545454, '11': 0.36363636363636365, '12': 0.6363636363636364, '13': 0.6363636363636364, '14': 0.5454545454545454, '15': 0.7272727272727273, '16': 0.5454545454545454, '17': 0.5454545454545454, '18': 0.5454545454545454, '19': 0.45454545454545453, '20': 0.6363636363636364, '21': 0.5454545454545454, '22': 0.2727272727272727, '23': 0.45454545454545453, '24': 0.45454545454545453, '25': 0.5454545454545454, '26': 0.5454545454545454, '27': 0.45454545454545453, '28': 0.36363636363636365, '29': 0.5454545454545454, '30': 0.45454545454545453, '31': 0.6363636363636364, '32': 0.6363636363636364, '33': 0.8181818181818182, '34': 0.45454545454545453, '35': 0.2727272727272727, '36': 0.45454545454545453, '37': 0.2727272727272727, '38': 0.5454545454545454, '39': 0.6363636363636364, '40': 0.5454545454545454, '41': 0.45454545454545453, '42': 0.6363636363636364, '43': 0.5454545454545454, '44': 0.5454545454545454, '45': 0.6363636363636364, '46': 0.7272727272727273, '47': 0.8181818181818182, '48': 0.6363636363636364, '49': 0.5454545454545454, '50': 0.45454545454545453, '51': 0.18181818181818182, '52': 0.7272727272727273, '53': 0.5454545454545454, '54': 0.45454545454545453, '55': 0.5454545454545454, '56': 0.36363636363636365, '57': 0.6363636363636364, '58': 0.45454545454545453, '59': 0.6363636363636364, '60': 0.2727272727272727, '61': 0.2727272727272727, '62': 0.6363636363636364, '63': 0.6363636363636364, '64': 0.5454545454545454, '65': 0.6363636363636364, '66': 1.0, '67': 0.45454545454545453, '68': 0.45454545454545453, '69': 0.5454545454545454, '70': 0.6363636363636364, '71': 0.36363636363636365, '72': 0.45454545454545453, '73': 0.45454545454545453, '74': 0.5454545454545454, '75': 0.45454545454545453, '76': 0.6363636363636364, '77': 0.36363636363636365, '78': 0.36363636363636365, '79': 0.18181818181818182, '80': 0.2727272727272727, '81': 0.5454545454545454, '82': 0.5454545454545454, '83': 0.5454545454545454, '84': 0.6363636363636364, '85': 0.5454545454545454, '86': 0.2727272727272727, '87': 0.5454545454545454, '88': 0.45454545454545453, '89': 0.5454545454545454, '90': 0.9090909090909091, '91': 0.36363636363636365, '92': 0.7272727272727273, '93': 0.36363636363636365, '94': 0.5454545454545454, '95': 0.6363636363636364, '96': 0.36363636363636365, '97': 0.2727272727272727, '98': 0.5454545454545454, '99': 0.2727272727272727, '100': 0.6363636363636364, '101': 0.2727272727272727, '102': 0.7272727272727273, '103': 0.45454545454545453, '104': 0.45454545454545453, '105': 0.36363636363636365, '106': 0.45454545454545453, '107': 0.5454545454545454, '108': 0.45454545454545453, '109': 0.5454545454545454, '110': 0.36363636363636365, '111': 0.45454545454545453, '112': 0.7272727272727273, '113': 0.6363636363636364, '114': 0.45454545454545453, '115': 0.5454545454545454, '116': 0.45454545454545453, '117': 0.36363636363636365, '118': 0.7272727272727273, '119': 0.6363636363636364, '120': 0.36363636363636365, '121': 0.36363636363636365, '122': 0.7272727272727273, '123': 0.5454545454545454, '124': 0.7272727272727273, '125': 0.6363636363636364, '126': 0.45454545454545453}\n"
     ]
    }
   ],
   "source": [
    "print(over_35_dict)"
   ]
  },
  {
   "cell_type": "code",
   "execution_count": 131,
   "metadata": {},
   "outputs": [
    {
     "name": "stdout",
     "output_type": "stream",
     "text": [
      "0.02387999837728068\n",
      "0.02237025961655229\n"
     ]
    }
   ],
   "source": [
    "# Kalkulere varianse\n",
    "\n",
    "import statistics\n",
    "\n",
    "mean_under_35 = statistics.mean(under_35_dict.values())\n",
    "variance_under35 = sum((x - mean_under_35) ** 2 for x in under_35_dict.values()) / len(under_35_dict)\n",
    "\n",
    "mean_over_35 = statistics.mean(over_35_dict.values())\n",
    "variance_over35 = sum((x - mean_over_35) ** 2 for x in over_35_dict.values()) / len(over_35_dict)\n",
    "\n",
    "print(variance_under35)\n",
    "print(variance_over35)"
   ]
  },
  {
   "cell_type": "code",
   "execution_count": 132,
   "metadata": {},
   "outputs": [
    {
     "name": "stdout",
     "output_type": "stream",
     "text": [
      "Levene's test statistic: 1.0854403875596126\n",
      "p-value: 0.29848215970295194\n"
     ]
    }
   ],
   "source": [
    "from scipy.stats import levene\n",
    "\n",
    "# Convert the dictionary values to NumPy arrays\n",
    "under_35_array = np.array(list(under_35_dict.values()))\n",
    "over_35_array = np.array(list(over_35_dict.values()))\n",
    "\n",
    "# Assume you have two datasets, under_35 and over_35\n",
    "\n",
    "# Perform Levene's test\n",
    "stat, p = levene(under_35_array, over_35_array)\n",
    "\n",
    "# Print the results\n",
    "print(\"Levene's test statistic:\", stat)\n",
    "print(\"p-value:\", p)"
   ]
  },
  {
   "cell_type": "code",
   "execution_count": 133,
   "metadata": {},
   "outputs": [
    {
     "name": "stdout",
     "output_type": "stream",
     "text": [
      "Teststatistikk: 0.9370209574699402\n",
      "P-verdi: 1.613538188394159e-05\n",
      "Datasettet avviker fra normalfordelingen (avviser H0)\n"
     ]
    }
   ],
   "source": [
    "from scipy.stats import shapiro\n",
    "\n",
    "# Utfør Shapiro-Wilk-testen\n",
    "stat, p_value = shapiro(under_35_array)\n",
    "\n",
    "# Skriv ut resultatene\n",
    "print(\"Teststatistikk:\", stat)\n",
    "print(\"P-verdi:\", p_value)\n",
    "\n",
    "# Tolking av resultatene\n",
    "alpha = 0.05  # Signifikansnivå\n",
    "if p_value > alpha:\n",
    "    print(\"Datasettet følger normalfordelingen (kan ikke avvise H0)\")\n",
    "else:\n",
    "    print(\"Datasettet avviker fra normalfordelingen (avviser H0)\")"
   ]
  },
  {
   "cell_type": "code",
   "execution_count": null,
   "metadata": {},
   "outputs": [],
   "source": []
  },
  {
   "cell_type": "code",
   "execution_count": 134,
   "metadata": {},
   "outputs": [
    {
     "name": "stdout",
     "output_type": "stream",
     "text": [
      "Teststatistikk: 0.961550235748291\n",
      "P-verdi: 0.0011521079577505589\n",
      "Datasettet avviker fra normalfordelingen (avviser H0)\n"
     ]
    }
   ],
   "source": [
    "from scipy.stats import shapiro\n",
    "\n",
    "# Utfør Shapiro-Wilk-testen\n",
    "stat, p_value = shapiro(over_35_array)\n",
    "\n",
    "# Skriv ut resultatene\n",
    "print(\"Teststatistikk:\", stat)\n",
    "print(\"P-verdi:\", p_value)\n",
    "\n",
    "# Tolking av resultatene\n",
    "alpha = 0.05  # Signifikansnivå\n",
    "if p_value > alpha:\n",
    "    print(\"Datasettet følger normalfordelingen (kan ikke avvise H0)\")\n",
    "else:\n",
    "    print(\"Datasettet avviker fra normalfordelingen (avviser H0)\")"
   ]
  },
  {
   "cell_type": "code",
   "execution_count": 126,
   "metadata": {},
   "outputs": [
    {
     "name": "stdout",
     "output_type": "stream",
     "text": [
      "[94.49 34.65 40.94 40.94 52.76 66.93 61.42 31.5  25.98 63.78 54.33]\n",
      "[42.52 92.91 66.93 86.61 69.29 84.25 96.06 93.7  14.96]\n",
      "[63.78 61.42 52.76 63.78 66.93 25.98 66.93 63.78 40.94]\n"
     ]
    }
   ],
   "source": [
    "print(over_35_array)\n",
    "print(under_35_array)\n",
    "over_35_array_random = np.random.choice(over_35_array,size=9)\n",
    "print(over_35_array_random)\n"
   ]
  },
  {
   "cell_type": "code",
   "execution_count": 136,
   "metadata": {},
   "outputs": [
    {
     "name": "stdout",
     "output_type": "stream",
     "text": [
      "Test Statistic: 605.5\n",
      "P-value: 1.358843645015168e-16\n"
     ]
    }
   ],
   "source": [
    "import numpy as np\n",
    "from scipy import stats\n",
    "#scipy.stats.wilcoxon(x, y=None, zero_method='wilcox', correction=False, alternative='two-sided', method='auto', *, axis=0, nan_policy='propagate', keepdims=False)\n",
    "# Generate two sets of sample data\n",
    "group1 = under_35_array\n",
    "group2 = over_35_array\n",
    "\n",
    "# Perform Wilcoxon Rank Sum test\n",
    "statistic, p_value = stats.wilcoxon(group1, group2)\n",
    "\n",
    "# Print the test statistic and p-value\n",
    "print(\"Test Statistic:\", statistic)\n",
    "print(\"P-value:\", p_value)"
   ]
  },
  {
   "cell_type": "code",
   "execution_count": 137,
   "metadata": {},
   "outputs": [
    {
     "name": "stdout",
     "output_type": "stream",
     "text": [
      "t-statistic: 11.656026006802861\n",
      "p-value: 9.439885287190302e-22\n",
      "The group over 35 has a lower mean.\n"
     ]
    }
   ],
   "source": [
    "from scipy.stats import ttest_ind\n",
    "from scipy.stats import ttest_rel\n",
    "\n",
    "# Perform the t-test assuming equal variances\n",
    "t_stat, p_value = ttest_rel(list(under_35_dict.values()), list(over_35_dict.values()))\n",
    "\n",
    "# Print the results\n",
    "print(\"t-statistic:\", t_stat)\n",
    "print(\"p-value:\", p_value)\n",
    "# Interpret the results\n",
    "if t_stat < 0:\n",
    "    print(\"The group under 35 has a lower mean.\")\n",
    "elif t_stat > 0:\n",
    "    print(\"The group over 35 has a lower mean.\")\n",
    "else:\n",
    "    print(\"The means of the two groups are equal.\")"
   ]
  },
  {
   "cell_type": "code",
   "execution_count": 98,
   "metadata": {},
   "outputs": [
    {
     "ename": "ValueError",
     "evalue": "unequal length arrays",
     "output_type": "error",
     "traceback": [
      "\u001b[1;31m---------------------------------------------------------------------------\u001b[0m",
      "\u001b[1;31mValueError\u001b[0m                                Traceback (most recent call last)",
      "\u001b[1;32md:\\OneDrive - NTNU\\Skule\\masteroppgave\\Kode\\T_test.ipynb Cell 12\u001b[0m in \u001b[0;36m6\n\u001b[0;32m      <a href='vscode-notebook-cell:/d%3A/OneDrive%20-%20NTNU/Skule/masteroppgave/Kode/T_test.ipynb#X20sZmlsZQ%3D%3D?line=2'>3</a>\u001b[0m group1 \u001b[39m=\u001b[39m [\u001b[39m10\u001b[39m, \u001b[39m12\u001b[39m, \u001b[39m15\u001b[39m, \u001b[39m11\u001b[39m, \u001b[39m13\u001b[39m]\n\u001b[0;32m      <a href='vscode-notebook-cell:/d%3A/OneDrive%20-%20NTNU/Skule/masteroppgave/Kode/T_test.ipynb#X20sZmlsZQ%3D%3D?line=3'>4</a>\u001b[0m group2 \u001b[39m=\u001b[39m [\u001b[39m8\u001b[39m, \u001b[39m11\u001b[39m, \u001b[39m14\u001b[39m, \u001b[39m9\u001b[39m, \u001b[39m12\u001b[39m, \u001b[39m10\u001b[39m, \u001b[39m11\u001b[39m]\n\u001b[1;32m----> <a href='vscode-notebook-cell:/d%3A/OneDrive%20-%20NTNU/Skule/masteroppgave/Kode/T_test.ipynb#X20sZmlsZQ%3D%3D?line=5'>6</a>\u001b[0m t_stat, p_value \u001b[39m=\u001b[39m ttest_rel(group1, group2)\n\u001b[0;32m      <a href='vscode-notebook-cell:/d%3A/OneDrive%20-%20NTNU/Skule/masteroppgave/Kode/T_test.ipynb#X20sZmlsZQ%3D%3D?line=7'>8</a>\u001b[0m \u001b[39mprint\u001b[39m(\u001b[39m\"\u001b[39m\u001b[39mt-statistic:\u001b[39m\u001b[39m\"\u001b[39m, t_stat)\n\u001b[0;32m      <a href='vscode-notebook-cell:/d%3A/OneDrive%20-%20NTNU/Skule/masteroppgave/Kode/T_test.ipynb#X20sZmlsZQ%3D%3D?line=8'>9</a>\u001b[0m \u001b[39mprint\u001b[39m(\u001b[39m\"\u001b[39m\u001b[39mp-value:\u001b[39m\u001b[39m\"\u001b[39m, p_value)\n",
      "File \u001b[1;32mc:\\Users\\sondr\\AppData\\Local\\Programs\\Python\\Python39\\lib\\site-packages\\scipy\\stats\\_stats_py.py:6895\u001b[0m, in \u001b[0;36mttest_rel\u001b[1;34m(a, b, axis, nan_policy, alternative)\u001b[0m\n\u001b[0;32m   6893\u001b[0m nb \u001b[39m=\u001b[39m _get_len(b, axis, \u001b[39m\"\u001b[39m\u001b[39msecond argument\u001b[39m\u001b[39m\"\u001b[39m)\n\u001b[0;32m   6894\u001b[0m \u001b[39mif\u001b[39;00m na \u001b[39m!=\u001b[39m nb:\n\u001b[1;32m-> 6895\u001b[0m     \u001b[39mraise\u001b[39;00m \u001b[39mValueError\u001b[39;00m(\u001b[39m'\u001b[39m\u001b[39munequal length arrays\u001b[39m\u001b[39m'\u001b[39m)\n\u001b[0;32m   6897\u001b[0m \u001b[39mif\u001b[39;00m na \u001b[39m==\u001b[39m \u001b[39m0\u001b[39m:\n\u001b[0;32m   6898\u001b[0m     \u001b[39mreturn\u001b[39;00m _ttest_nans(a, b, axis, Ttest_relResult)\n",
      "\u001b[1;31mValueError\u001b[0m: unequal length arrays"
     ]
    }
   ],
   "source": []
  },
  {
   "cell_type": "code",
   "execution_count": 138,
   "metadata": {},
   "outputs": [
    {
     "name": "stdout",
     "output_type": "stream",
     "text": [
      "Cohen's d: -1.335272230879337\n"
     ]
    }
   ],
   "source": [
    "import numpy as np\n",
    "\n",
    "\n",
    "mean_diff = np.mean(over_35_array) - np.mean(under_35_array)\n",
    "pooled_std = np.sqrt((np.var(group1) + np.var(group2)) / 2)\n",
    "cohen_d = mean_diff / pooled_std\n",
    "\n",
    "print(\"Cohen's d:\", cohen_d)"
   ]
  }
 ],
 "metadata": {
  "kernelspec": {
   "display_name": "Python 3",
   "language": "python",
   "name": "python3"
  },
  "language_info": {
   "codemirror_mode": {
    "name": "ipython",
    "version": 3
   },
   "file_extension": ".py",
   "mimetype": "text/x-python",
   "name": "python",
   "nbconvert_exporter": "python",
   "pygments_lexer": "ipython3",
   "version": "3.9.13"
  },
  "orig_nbformat": 4
 },
 "nbformat": 4,
 "nbformat_minor": 2
}
